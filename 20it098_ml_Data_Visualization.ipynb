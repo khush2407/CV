{
  "nbformat": 4,
  "nbformat_minor": 0,
  "metadata": {
    "colab": {
      "provenance": [],
      "authorship_tag": "ABX9TyN3okQRHmIbO8XgKsZ1ucO/",
      "include_colab_link": true
    },
    "kernelspec": {
      "name": "python3",
      "display_name": "Python 3"
    },
    "language_info": {
      "name": "python"
    }
  },
  "cells": [
    {
      "cell_type": "markdown",
      "metadata": {
        "id": "view-in-github",
        "colab_type": "text"
      },
      "source": [
        "<a href=\"https://colab.research.google.com/github/khush2407/CV/blob/main/20it098_ml_Data_Visualization.ipynb\" target=\"_parent\"><img src=\"https://colab.research.google.com/assets/colab-badge.svg\" alt=\"Open In Colab\"/></a>"
      ]
    },
    {
      "cell_type": "code",
      "execution_count": null,
      "metadata": {
        "id": "z2UF8l0I1410"
      },
      "outputs": [],
      "source": [
        "# Import the matplotlib.pyplot API, using the conventional name plt.\n",
        "#Create Figure and Axes objects using the plt.subplots function.\n",
        "#Show the results, an empty set of axes, using the plt.show function.\n",
        "# Import the matplotlib.pyplot submodule and name it plt\n",
        "# Import the matplotlib.pyplot submodule and name it plt\n",
        "import matplotlib.pyplot as plt\n",
        "\n",
        "# Create a Figure and an Axes with plt.subplots\n",
        "fig, ax = plt.subplots()\n",
        "\n",
        "# Call the show function to show the result\n",
        "plt.show()"
      ]
    },
    {
      "cell_type": "code",
      "source": [
        "#Import the matplotlib.pyplot submodule as plt.\n",
        "#Create a Figure and an Axes object by calling plt.subplots.\n",
        "#Add data from the seattle_weather DataFrame by calling the Axes plot method.\n",
        "#Add data from the austin_weather DataFrame in a similar manner and call plt.show to show the results.\n",
        "# Import the matplotlib.pyplot submodule and name it plt\n",
        "import matplotlib.pyplot as plt\n",
        "\n",
        "# Create a Figure and an Axes with plt.subplots\n",
        "fig, ax = plt.subplots()\n",
        "\n",
        "# Plot MLY-PRCP-NORMAL from seattle_weather against the MONTH\n",
        "ax.plot(seattle_weather[\"MONTH\"], seattle_weather[\"MLY-PRCP-NORMAL\"])\n",
        "\n",
        "# Plot MLY-PRCP-NORMAL from austin_weather against MONTH\n",
        "ax.plot(austin_weather[\"MONTH\"], austin_weather[\"MLY-PRCP-NORMAL\"])\n",
        "\n",
        "# Call the show function\n",
        "plt.show()"
      ],
      "metadata": {
        "id": "amGxna1Z2ue2"
      },
      "execution_count": null,
      "outputs": []
    },
    {
      "cell_type": "code",
      "source": [
        "#Call ax.plot to plot \"MLY-PRCP-NORMAL\" against \"MONTHS\" in both DataFrames.\n",
        "#Pass the color key-word arguments to these commands to set the color of the Seattle data to blue ('b') and the Austin data to red ('r').\n",
        "#Pass the marker key-word arguments to these commands to set the Seattle data to circle markers ('o') and the Austin markers to triangles pointing downwards ('v').\n",
        "#Pass the linestyle key-word argument to use dashed lines for the data from both cities ('--').\n",
        "# Plot Seattle data, setting data appearance\n",
        "ax.plot(seattle_weather[\"MONTH\"], seattle_weather[\"MLY-PRCP-NORMAL\"], color='b', marker='o', linestyle='--')\n",
        "\n",
        "# Plot Austin data, setting data appearance\n",
        "ax.plot(austin_weather[\"MONTH\"], austin_weather[\"MLY-PRCP-NORMAL\"], color='r', marker='v', linestyle='--')\n",
        "\n",
        "# Call show to display the resulting plot\n",
        "plt.show()"
      ],
      "metadata": {
        "id": "hdziy8bY3ANf"
      },
      "execution_count": null,
      "outputs": []
    },
    {
      "cell_type": "code",
      "source": [
        "#Use the set_xlabel method to add the label: \"Time (months)\".\n",
        "#Use the set_ylabel method to add the label: \"Precipitation (inches)\".\n",
        "#Use the set_title method to add the title: \"Weather patterns in Austin and Seattle\"\n",
        "ax.plot(seattle_weather[\"MONTH\"], seattle_weather[\"MLY-PRCP-NORMAL\"])\n",
        "ax.plot(austin_weather[\"MONTH\"], austin_weather[\"MLY-PRCP-NORMAL\"])\n",
        "\n",
        "# Customize the x-axis label\n",
        "ax.set_xlabel('Time (months)')\n",
        "\n",
        "# Customize the y-axis label\n",
        "ax.set_ylabel('Precipitation (inches)')\n",
        "\n",
        "# Add the title\n",
        "ax.set_title('Weather patterns in Austin and Seattle')\n",
        "\n",
        "# Display the figure\n",
        "plt.show()"
      ],
      "metadata": {
        "id": "3skRVh2Y3Qyr"
      },
      "execution_count": null,
      "outputs": []
    },
    {
      "cell_type": "code",
      "source": [
        "#Create a Figure and an array of subplots with 2 rows and 2 columns.\n",
        "#Addressing the top left Axes as index 0, 0, plot the Seattle precipitation.\n",
        "#In the top right (index 0,1), plot Seattle temperatures.\n",
        "#In the bottom left (1, 0) and bottom right (1, 1) plot Austin precipitations and temperatures.\n",
        "# Create a Figure and an array of subplots with 2 rows and 2 columns\n",
        "fig, ax = plt.subplots(2, 2)\n",
        "\n",
        "# Addressing the top left Axes as index 0, 0, plot month and Seattle precipitation\n",
        "ax[0, 0].plot(seattle_weather['MONTH'], seattle_weather['MLY-PRCP-NORMAL'])\n",
        "\n",
        "# In the top right (index 0,1), plot month and Seattle temperatures\n",
        "ax[0, 1].plot(seattle_weather['MONTH'], seattle_weather['MLY-TAVG-NORMAL'])\n",
        "\n",
        "# In the bottom left (1, 0) plot month and Austin precipitations\n",
        "ax[1, 0].plot(austin_weather['MONTH'], austin_weather['MLY-PRCP-NORMAL'])\n",
        "\n",
        "# In the bottom right (1, 1) plot month and Austin temperatures\n",
        "ax[1, 1].plot(austin_weather['MONTH'], austin_weather['MLY-TAVG-NORMAL'])\n",
        "\n",
        "plt.show()"
      ],
      "metadata": {
        "id": "3cGfbh-93ZSL"
      },
      "execution_count": null,
      "outputs": []
    },
    {
      "cell_type": "code",
      "source": [
        "#Create a Figure with an array of two Axes objects that share their y-axis range.\n",
        "#Plot Seattle's \"MLY-PRCP-NORMAL\" in a solid blue line in the top Axes.\n",
        "#Add Seattle's \"MLY-PRCP-25PCTL\" and \"MLY-PRCP-75PCTL\" in dashed blue lines to the top Axes.\n",
        "#Plot Austin's \"MLY-PRCP-NORMAL\" in a solid red line in the bottom Axes and the \"MLY-PRCP-25PCTL\" and \"MLY-PRCP-75PCTL\" in dashed red lines.\n",
        "# Create a figure and an array of axes: 2 rows, 1 column with shared y axis\n",
        "fig, ax = plt.subplots(2, 1, sharey=True)\n",
        "\n",
        "# Plot Seattle precipitation data in the top axes\n",
        "ax[0].plot(seattle_weather['MONTH'], seattle_weather['MLY-PRCP-NORMAL'], color = 'b')\n",
        "ax[0].plot(seattle_weather['MONTH'], seattle_weather['MLY-PRCP-25PCTL'], color = 'b', linestyle = '--')\n",
        "ax[0].plot(seattle_weather['MONTH'], seattle_weather['MLY-PRCP-75PCTL'], color = 'b', linestyle = '--')\n",
        "\n",
        "# Plot Austin precipitation data in the bottom axes\n",
        "ax[1].plot(austin_weather['MONTH'], austin_weather['MLY-PRCP-NORMAL'], color = 'r')\n",
        "ax[1].plot(austin_weather['MONTH'], austin_weather['MLY-PRCP-25PCTL'], color = 'r', linestyle = '--')\n",
        "ax[1].plot(austin_weather['MONTH'], austin_weather['MLY-PRCP-75PCTL'], color = 'r', linestyle = '--')\n",
        "\n",
        "plt.show()"
      ],
      "metadata": {
        "id": "oS002J_g3zTp"
      },
      "execution_count": null,
      "outputs": []
    },
    {
      "cell_type": "code",
      "source": [
        "Plotting time-series\n"
      ],
      "metadata": {
        "id": "3NOLypkb6tnI"
      },
      "execution_count": null,
      "outputs": []
    },
    {
      "cell_type": "code",
      "source": [
        "#Import the pandas library as pd.\n",
        "#Read in the data from a CSV file called 'climate_change.csv' using pd.read_csv.\n",
        "#Use the parse_dates key-word argument to parse the \"date\" column as dates.\n",
        "#Use the index_col key-word argument to set the \"date\" column as the index.\n",
        "# Import pandas as pd\n",
        "import pandas as pd\n",
        "\n",
        "# Read the data from file using read_csv\n",
        "climate_change = pd.read_csv('climate_change.csv', parse_dates=True, index_col=\"date\") # Use the parse_dates key-word argument to parse the \"date\" column as dates. Use the index_col key-word argument to set the \"date\" column as the index."
      ],
      "metadata": {
        "id": "yJw77OdB6urf"
      },
      "execution_count": null,
      "outputs": []
    },
    {
      "cell_type": "code",
      "source": [
        "#Add the data from climate_change to the plot: use the DataFrame index for the x value and the \"relative_temp\" column for the y values.\n",
        "#Set the x-axis label to 'Time'.\n",
        "#Set the y-axis label to 'Relative temperature (Celsius)'.\n",
        "#Show the figure.\n",
        "import matplotlib.pyplot as plt\n",
        "fig, ax = plt.subplots()\n",
        "\n",
        "# Add the time-series for \"relative_temp\" to the plot. Use the DataFrame index for the x value and the \"relative_temp\" column for the y values.\n",
        "ax.plot(climate_change.index, climate_change[\"relative_temp\"])\n",
        "\n",
        "# Set the x-axis label to 'Time'.\n",
        "ax.set_xlabel('Time')\n",
        "\n",
        "# Set the y-axis label to 'Relative temperature (Celsius)'.\n",
        "ax.set_ylabel('Relative temperature (Celsius)')\n",
        "\n",
        "# Show the figure\n",
        "plt.show()"
      ],
      "metadata": {
        "id": "NpoB04X466Zg"
      },
      "execution_count": null,
      "outputs": []
    },
    {
      "cell_type": "code",
      "source": [
        "#Use plt.subplots to create a Figure with one Axes called fig and ax, respectively.\n",
        "#Create a variable called seventies that includes all the data between \"1970-01-01\" and \"1979-12-31\".\n",
        "#Add the data from seventies to the plot: use the DataFrame index for the x value and the \"co2\" column for the y values.\n",
        "import matplotlib.pyplot as plt\n",
        "\n",
        "# Use plt.subplots to create fig and ax\n",
        "fig, ax = plt.subplots()\n",
        "\n",
        "# Create variable seventies with data from \"1970-01-01\" to \"1979-12-31\"\n",
        "seventies = climate_change[\"1970-01-01\":\"1979-12-31\"]\n",
        "\n",
        "# Add the time-series for \"co2\" data from seventies to the plot\n",
        "ax.plot(seventies.index, seventies[\"co2\"])\n",
        "\n",
        "# Show the figure\n",
        "plt.show()"
      ],
      "metadata": {
        "id": "fHuz3Z5l7FHv"
      },
      "execution_count": null,
      "outputs": []
    },
    {
      "cell_type": "code",
      "source": [
        "#Use plt.subplots to create a Figure and Axes objects called fig and ax, respectively.\n",
        "#Plot the carbon dioxide variable in blue using the Axes plot method.\n",
        "#se the Axes twinx method to create a twin Axes that shares the x-axis.\n",
        "#Plot the relative temperature variable in red on the twin Axes using its plot method.\n",
        "import matplotlib.pyplot as plt\n",
        "\n",
        "# Initalize a Figure and Axes\n",
        "fig, ax = plt.subplots()\n",
        "\n",
        "# Plot the CO2 variable in blue\n",
        "ax.plot(climate_change.index, climate_change[\"co2\"], color='b')\n",
        "\n",
        "# Create a twin Axes that shares the x-axis\n",
        "ax2 = ax.twinx()\n",
        "\n",
        "# Plot the relative temperature in red\n",
        "ax2.plot(climate_change.index, climate_change[\"relative_temp\"], color='r')\n",
        "\n",
        "plt.show()"
      ],
      "metadata": {
        "id": "MRxvhyfv7NVH"
      },
      "execution_count": null,
      "outputs": []
    },
    {
      "cell_type": "code",
      "source": [
        "#Define a function called plot_timeseries that takes as input an Axes object (axes), data (x,y), a string with the name of a color and strings for x- and y-axis labels.\n",
        "#Plot y as a function of in the color provided as the input color.\n",
        "#Set the x- and y-axis labels using the provided input xlabel and ylabel, setting the y-axis label color using color.\n",
        "#Set the y-axis tick parameters using the tick_params method of the Axes object, setting the colors key-word to color.\n",
        "# Define a function called plot_timeseries that takes as input an Axes object (axes), data (x,y), a string with the name of a color and strings for x- and y-axis labels.\n",
        "def plot_timeseries(axes, x, y, color, xlabel, ylabel):\n",
        "\n",
        "  # Plot the inputs x,y in the provided color\n",
        "  axes.plot(x, y, color=color)\n",
        "\n",
        "  # Set the x-axis label\n",
        "  axes.set_xlabel(xlabel)\n",
        "\n",
        "  # Set the y-axis label\n",
        "  axes.set_ylabel(ylabel, color=color)\n",
        "\n",
        "  # Set the colors tick params for y-axis\n",
        "  axes.tick_params('y', colors=color) "
      ],
      "metadata": {
        "id": "r2JZ6pAX7W-N"
      },
      "execution_count": null,
      "outputs": []
    },
    {
      "cell_type": "code",
      "source": [
        "#In the provided ax object, use the function plot_timeseries to plot the \"co2\" column in blue, with the x-axis label \"Time (years)\" and y-axis label \"CO2 levels\".\n",
        "#Use the ax.twinx method to add an Axes object to the figure that shares the x-axis with ax.\n",
        "#Use the function plot_timeseries to add the data in the \"relative_temp\" column in red to the twin Axes object, with the x-axis label \"Time (years)\" and y-axis label \"Relative temperature (Celsius)\".\n",
        "fig, ax = plt.subplots()\n",
        "\n",
        "# Plot the CO2 levels time-series in blue\n",
        "plot_timeseries(ax, climate_change.index, climate_change[\"co2\"], \"blue\", \"Time (years)\", \"CO2 levels\")\n",
        "\n",
        "# Create a twin Axes object that shares the x-axis\n",
        "ax2 = ax.twinx()\n",
        "\n",
        "# Plot the relative temperature data in red\n",
        "plot_timeseries(ax2, climate_change.index, climate_change[\"relative_temp\"], \"red\", \"Time (years)\", \"Relative temperature (Celsius)\")\n",
        "\n",
        "plt.show()"
      ],
      "metadata": {
        "id": "pMwIn7v_7heF"
      },
      "execution_count": null,
      "outputs": []
    },
    {
      "cell_type": "code",
      "source": [
        "#Use the ax.plot method to plot the DataFrame index against the relative_temp column.\n",
        "#Use the annotate method to add the text '>1 degree' in the location (pd.Timestamp('2015-10-06'), 1).\n",
        "fig, ax = plt.subplots()\n",
        "\n",
        "# Plot the relative temperature data\n",
        "ax.plot(climate_change.index, climate_change['relative_temp'])\n",
        "\n",
        "# Use the annotate method to add the text '>1 degree' in the location (pd.Timestamp('2015-10-06'), 1).\n",
        "ax.annotate('>1 degree', xy=(pd.Timestamp('2015-10-06'), 1))\n",
        "\n",
        "plt.show()"
      ],
      "metadata": {
        "id": "ZhXumGGz89Rg"
      },
      "execution_count": null,
      "outputs": []
    },
    {
      "cell_type": "code",
      "source": [
        "#Use the plot_timeseries function to plot CO2 levels against time. Set xlabel to \"Time (years)\" ylabel to \"CO2 levels\" and color to 'blue'.\n",
        "#Create ax2, as a twin of the first Axes.\n",
        "#In ax2, plot temperature against time, setting the color ylabel to \"Relative temp (Celsius)\" and color to 'red'.\n",
        "#Annotate the data using the ax2.annotate method. Place the text \">1 degree\" in x=pd.Timestamp('2008-10-06'), y=-0.2 pointing with a gray thin arrow to x=pd.Timestamp('2015-10-06'), y = 1.\n",
        "fig, ax = plt.subplots()\n",
        "\n",
        "# Use the plot_timeseries function to plot CO2 levels against time. Set xlabel to \"Time (years)\" ylabel to \"CO2 levels\" and color to 'blue'.\n",
        "plot_timeseries(ax, climate_change.index, climate_change['co2'], 'blue', \"Time (years)\", \"CO2 levels\")\n",
        "\n",
        "# Create an Axes object that shares the x-axis\n",
        "ax2 = ax.twinx()\n",
        "\n",
        "# In ax2, plot temperature against time, setting the color ylabel to \"Relative temp (Celsius)\" and color to 'red'.\n",
        "plot_timeseries(ax2, climate_change.index, climate_change['relative_temp'], 'red', \"Time (years)\", \"Relative temp (Celsius)\")\n",
        "\n",
        "# Annotate the data using the ax2.annotate method. Place the text \">1 degree\" in x=pd.Timestamp('2008-10-06'), y=-0.2 pointing with a gray thin arrow to x=pd.Timestamp('2015-10-06'), y = 1.\n",
        "ax2.annotate(\">1 degree\", xy=(pd.Timestamp('2015-10-06'), 1), xytext=(pd.Timestamp('2008-10-06'), -0.2), arrowprops={\"arrowstyle\":\"->\", \"color\":\"gray\"})\n",
        "\n",
        "plt.show()"
      ],
      "metadata": {
        "id": "GzN5gc3T9GWW"
      },
      "execution_count": null,
      "outputs": []
    },
    {
      "cell_type": "code",
      "source": [
        "#Call the ax.bar method to plot the \"Gold\" column as a function of the country.\n",
        "#Use the ax.set_xticklabels to set the x-axis tick labels to be the country names.\n",
        "#In the call to ax.set_xticklabels rotate the x-axis tick labels by 90 degrees by using the rotation key-word argument.\n",
        "#Set the y-axis label to \"Number of medals\".\n",
        "fig, ax = plt.subplots()\n",
        "\n",
        "# Plot a bar-chart of gold medals as a function of country\n",
        "ax.bar(medals.index, medals[\"Gold\"])\n",
        "\n",
        "# Set the x-axis tick labels to the country names\n",
        "ax.set_xticklabels(medals.index, rotation=90) # rotate the x-axis tick labels by 90 degrees\n",
        "\n",
        "# Set the y-axis label\n",
        "ax.set_ylabel(\"Number of medals\")\n",
        "\n",
        "plt.show()"
      ],
      "metadata": {
        "id": "es_zkqPh9R3N"
      },
      "execution_count": null,
      "outputs": []
    },
    {
      "cell_type": "code",
      "source": [
        "#Call the ax.bar method to add the \"Gold\" medals. Call it with the label set to \"Gold\".\n",
        "#Call the ax.bar method to stack \"Silver\" bars on top of that, using the bottom key-word argument so the bottom of the bars will be on top of the gold medal bars, and label to add the label \"Silver\".\n",
        "#Use ax.bar to add \"Bronze\" bars on top of that, using the bottom key-word and label it as \"Bronze\".\n",
        "# Add bars for \"Gold\" with the label \"Gold\"\n",
        "ax.bar(medals.index, medals[\"Gold\"], label=\"Gold\")\n",
        "\n",
        "# Stack bars for \"Silver\" on top with label \"Silver\"\n",
        "ax.bar(medals.index, medals[\"Silver\"], bottom=medals[\"Gold\"], label=\"Silver\") # the bottom of the bars will be on top of the gold medal bars\n",
        "\n",
        "# Stack bars for \"Bronze\" on top of that with label \"Bronze\"\n",
        "ax.bar(medals.index, medals[\"Bronze\"], bottom=medals[\"Gold\"]+medals[\"Silver\"], label=\"Bronze\")\n",
        "\n",
        "# Display the legend\n",
        "ax.legend()\n",
        "\n",
        "plt.show()"
      ],
      "metadata": {
        "id": "holK5PGA9k9V"
      },
      "execution_count": null,
      "outputs": []
    },
    {
      "cell_type": "code",
      "source": [
        "#Use the ax.hist method to add a histogram of the \"Weight\" column from the mens_rowing DataFrame.\n",
        "#Use ax.hist to add a histogram of \"Weight\" for the mens_gymnastics DataFrame.\n",
        "#Set the x-axis label to \"Weight (kg)\" and the y-axis label to \"# of observations\".\n",
        "fig, ax = plt.subplots()\n",
        "# Plot a histogram of \"Weight\" for mens_rowing\n",
        "ax.hist(mens_rowing[\"Weight\"])\n",
        "\n",
        "# Compare to histogram of \"Weight\" for mens_gymnastics\n",
        "ax.hist( mens_gymnastics[\"Weight\"])\n",
        "\n",
        "# Set the x-axis label to \"Weight (kg)\"\n",
        "ax.set_xlabel(\"Weight (kg)\")\n",
        "\n",
        "# Set the y-axis label to \"# of observations\"\n",
        "ax.set_ylabel(\"# of observations\")\n",
        "\n",
        "plt.show()"
      ],
      "metadata": {
        "id": "iAxx0ls99rds"
      },
      "execution_count": null,
      "outputs": []
    },
    {
      "cell_type": "code",
      "source": [
        "#Use the hist method to display a histogram of the \"Weight\" column from the mens_rowing DataFrame, label this as \"Rowing\".\n",
        "#Use hist to display a histogram of the \"Weight\" column from the mens_gymnastics DataFrame, and label this as \"Gymnastics\".\n",
        "#For both histograms, use the histtype argument to visualize the data using the 'step' type and set the number of bins to use to 5.\n",
        "#Add a legend to the figure, before it is displayed.\n",
        "fig, ax = plt.subplots()\n",
        "\n",
        "# Use the hist method to display a histogram of the \"Weight\" column from the mens_rowing DataFrame, label this as \"Rowing\"\n",
        "ax.hist(mens_rowing[\"Weight\"], label=\"Rowing\", histtype='step', bins=5)  # use 'step' type and set the number of bins to use to 5.\n",
        "\n",
        "# Use hist to display a histogram of the \"Weight\" column from the mens_gymnastics DataFrame, and label this as \"Gymnastics\"\n",
        "ax.hist(mens_gymnastics[\"Weight\"], label=\"Gymnastics\", histtype='step', bins=5)\n",
        "\n",
        "ax.set_xlabel(\"Weight (kg)\")\n",
        "ax.set_ylabel(\"# of observations\")\n",
        "\n",
        "# Add the legend and show the Figure\n",
        "ax.legend()\n",
        "plt.show()"
      ],
      "metadata": {
        "id": "ZvVEg1WF9zPO"
      },
      "execution_count": null,
      "outputs": []
    },
    {
      "cell_type": "code",
      "source": [
        "#Add a bar with size equal to the mean of the \"Height\" column in the mens_rowing DataFrame and an error-bar of its standard deviation.\n",
        "#Add another bar for the mean of the \"Height\" column in mens_gymnastics with an error-bar of its standard deviation.\n",
        "#Add a label to the the y-axis: \"Height (cm)\".\n",
        "fig, ax = plt.subplots()\n",
        "\n",
        "# Add a bar with size equal to the mean of the \"Height\" column in the mens_rowing DataFrame and an error-bar of its standard deviation\n",
        "ax.bar(\"Rowing\", mens_rowing[\"Height\"].mean(), yerr=mens_rowing[\"Height\"].std())\n",
        "\n",
        "# Add another bar for the mean of the \"Height\" column in mens_gymnastics with an error-bar of its standard deviation.\n",
        "ax.bar(\"Gymnastics\", mens_gymnastics[\"Height\"].mean(), yerr=mens_gymnastics[\"Height\"].std())\n",
        "\n",
        "# Label the y-axis\n",
        "ax.set_ylabel(\"Height (cm)\")\n",
        "\n",
        "plt.show()"
      ],
      "metadata": {
        "id": "z-yKTt9499ha"
      },
      "execution_count": null,
      "outputs": []
    },
    {
      "cell_type": "code",
      "source": [
        "#Use the ax.errorbar method to add the Seattle data: the \"MONTH\" column as x values, the \"MLY-TAVG-NORMAL\" as y values and \"MLY-TAVG-STDDEV\" as yerr values.\n",
        "#Add the Austin data: the \"MONTH\" column as x values, the \"MLY-TAVG-NORMAL\" as y values and \"MLY-TAVG-STDDEV\" as yerr values.\n",
        "#Set the y-axis label as \"Temperature (Fahrenheit)\".\n",
        "fig, ax = plt.subplots()\n",
        "\n",
        "# Add Seattle temperature data in each month with error bars\n",
        "ax.errorbar(seattle_weather[\"MONTH\"], seattle_weather[\"MLY-TAVG-NORMAL\"], yerr=seattle_weather[\"MLY-TAVG-STDDEV\"])\n",
        "\n",
        "# Add Austin temperature data in each month with error bars\n",
        "ax.errorbar(austin_weather[\"MONTH\"], austin_weather[\"MLY-TAVG-NORMAL\"], yerr=austin_weather[\"MLY-TAVG-STDDEV\"])\n",
        "\n",
        "# Set the y-axis label\n",
        "ax.set_ylabel(\"Temperature (Fahrenheit)\")\n",
        "\n",
        "plt.show()"
      ],
      "metadata": {
        "id": "if_teFdD-FUC"
      },
      "execution_count": null,
      "outputs": []
    },
    {
      "cell_type": "code",
      "source": [
        "#Create a boxplot that contains the \"Height\" column for mens_rowing on the left and mens_gymnastics on the right.\n",
        "#Add x-axis tick labels: \"Rowing\" and \"Gymnastics\".\n",
        "#Add a y-axis label: \"Height (cm)\".\n",
        "fig, ax = plt.subplots()\n",
        "\n",
        "# Create a boxplot that contains the \"Height\" column for mens_rowing on the left and mens_gymnastics on the right.\n",
        "ax.boxplot([mens_rowing[\"Height\"], mens_gymnastics[\"Height\"]])\n",
        "\n",
        "# Add x-axis tick labels:\n",
        "ax.set_xticklabels([\"Rowing\", \"Gymnastics\"])\n",
        "\n",
        "# Add a y-axis label\n",
        "ax.set_ylabel(\"Height (cm)\")\n",
        "\n",
        "plt.show()"
      ],
      "metadata": {
        "id": "Jj_wdIl7-Mku"
      },
      "execution_count": null,
      "outputs": []
    },
    {
      "cell_type": "code",
      "source": [
        "#Using the ax.scatter method, add the data to the plot: \"co2\" on the x-axis and \"relative_temp\" on the y-axis.\n",
        "#Set the x-axis label to \"CO2 (ppm)\".\n",
        "#Set the y-axis label to \"Relative temperature (C)\".\n",
        "fig, ax = plt.subplots()\n",
        "\n",
        "# Add data: \"co2\" on x-axis, \"relative_temp\" on y-axis\n",
        "ax.scatter(climate_change[\"co2\"], climate_change[\"relative_temp\"])\n",
        "\n",
        "# Set the x-axis label to \"CO2 (ppm)\"\n",
        "ax.set_xlabel(\"CO2 (ppm)\")\n",
        "\n",
        "# Set the y-axis label to \"Relative temperature (C)\"\n",
        "ax.set_ylabel(\"Relative temperature (C)\")\n",
        "\n",
        "plt.show()"
      ],
      "metadata": {
        "id": "vEWy9JRj-VAW"
      },
      "execution_count": null,
      "outputs": []
    },
    {
      "cell_type": "code",
      "source": [
        "#Using the ax.scatter method add a scatter plot of the \"co2\" column (x-axis) against the \"relative_temp\" column.\n",
        "#se the c key-word argument to pass in the index of the DataFrame as input to color each point according to its date.\n",
        "#Set the x-axis label to \"CO2 (ppm)\" and the y-axis label to \"Relative temperature (C)\".\n",
        "fig, ax = plt.subplots()\n",
        "\n",
        "# Add data: \"co2\", \"relative_temp\" as x-y, index as color\n",
        "ax.scatter(climate_change[\"co2\"], climate_change[\"relative_temp\"], c=climate_change.index) # Use the c key-word argument to pass in the index of the DataFrame as input to color each point according to its date.\n",
        "\n",
        "# Set the x-axis label to \"CO2 (ppm)\"\n",
        "ax.set_xlabel(\"CO2 (ppm)\")\n",
        "\n",
        "# Set the y-axis label to \"Relative temperature (C)\"\n",
        "ax.set_ylabel(\"Relative temperature (C)\")\n",
        "\n",
        "plt.show()"
      ],
      "metadata": {
        "id": "yKr03PtF-ggL"
      },
      "execution_count": null,
      "outputs": []
    },
    {
      "cell_type": "code",
      "source": [
        "#haring visualizations with others"
      ],
      "metadata": {
        "id": "IouGHIEc-4UY"
      },
      "execution_count": null,
      "outputs": []
    },
    {
      "cell_type": "code",
      "source": [
        "#Select the 'ggplot' style, create a new Figure called fig, and a new Axes object called ax with plt.subplots.\n",
        "# Use the \"ggplot\" style and create new Figure/Axes\n",
        "plt.style.use('ggplot')\n",
        "fig, ax = plt.subplots()\n",
        "ax.plot(seattle_weather[\"MONTH\"], seattle_weather[\"MLY-TAVG-NORMAL\"])\n",
        "plt.show()\n",
        "\n",
        "# Use the \"Solarize_Light2\" style and create new Figure/Axes\n",
        "plt.style.use('Solarize_Light2')\n",
        "fig, ax = plt.subplots()\n",
        "ax.plot(austin_weather[\"MONTH\"], austin_weather[\"MLY-TAVG-NORMAL\"])\n",
        "plt.show()"
      ],
      "metadata": {
        "id": "mXIAr1mX_JaA"
      },
      "execution_count": null,
      "outputs": []
    },
    {
      "cell_type": "code",
      "source": [
        "#Select the 'Solarize_Light2' style, create a new Figure called fig, and a new Axes object called ax with plt.subplots.\n",
        "# Use the \"Solarize_Light2\" style and create new Figure/Axes\n",
        "plt.style.use('Solarize_Light2')\n",
        "fig, ax = plt.subplots()\n",
        "ax.plot(austin_weather[\"MONTH\"], austin_weather[\"MLY-TAVG-NORMAL\"])\n",
        "plt.show()"
      ],
      "metadata": {
        "id": "nHBEes9u_UE_"
      },
      "execution_count": null,
      "outputs": []
    },
    {
      "cell_type": "code",
      "source": [
        "#Examine the figure by calling the plt.show() function.\n",
        "# Show the figure\n",
        "plt.show()\n",
        "\n",
        "# Save as a PNG file\n",
        "fig.savefig('my_figure.png')\n",
        "\n",
        "# Save as a PNG file with 300 dpi\n",
        "fig.savefig('my_figure_300dpi.png', dpi=300)"
      ],
      "metadata": {
        "id": "DcIDvYuP_kIG"
      },
      "execution_count": null,
      "outputs": []
    },
    {
      "cell_type": "code",
      "source": [
        "#Set the figure size as width of 3 inches and height of 5 inches and save it as 'figure_3_5.png' with default resolution.\n",
        "fig.set_size_inches([3, 5])\n",
        "fig.savefig('figure_3_5.png')"
      ],
      "metadata": {
        "id": "-ZHVOfP0_4kr"
      },
      "execution_count": null,
      "outputs": []
    },
    {
      "cell_type": "code",
      "source": [
        "# Set the figure size to width of 5 inches and height of 3 inches and save it as 'figure_5_3.png' with default settings.\n",
        "fig.set_size_inches([5, 3])\n",
        "fig.savefig('figure_5_3.png')"
      ],
      "metadata": {
        "id": "dxOJ38jKACfD"
      },
      "execution_count": null,
      "outputs": []
    },
    {
      "cell_type": "code",
      "source": [
        "# Create a variable called sports_column that holds the data from the \"Sport\" column of the DataFrame object.\n",
        "sports_column = summer_2016_medals[\"Sport\"]\n",
        "\n",
        "# Use the unique method of this variable to find all the unique different sports that are present in this data, and assign these values into a new variable called sports\n",
        "sports = sports_column.unique()\n",
        "\n",
        "# Print out the unique sports values\n",
        "print(sports)\n"
      ],
      "metadata": {
        "id": "r6bluedWAHER"
      },
      "execution_count": null,
      "outputs": []
    },
    {
      "cell_type": "code",
      "source": [
        "#Iterate over the values of sports setting sport as your loop variable.\n",
        "#In each iteration, extract the rows where the \"Sport\" column is equal to sport.\n",
        "#Add a bar to the provided ax object, labeled with the sport name, with the mean of the \"Weight\" column as its height, and the standard deviation as a y-axis error bar.\n",
        "#Save the figure into the file \"sports_weights.png\".\n",
        "fig, ax = plt.subplots()\n",
        "\n",
        "# Loop over the different sports branches. Iterate over the values of sports setting sport as your loop variable.\n",
        "for sport in sports:\n",
        "  # Extract the rows only for this sport. In each iteration, extract the rows where the \"Sport\" column is equal to sport.\n",
        "  sport_df = summer_2016_medals[summer_2016_medals[\"Sport\"]==sport]\n",
        "  # Add a bar for the \"Weight\" mean with std y error bar\n",
        "  ax.bar(sport, sport_df[\"Weight\"].mean(), yerr=sport_df[\"Weight\"].std())\n",
        "\n",
        "ax.set_ylabel(\"Weight\")\n",
        "ax.set_xticklabels(sports, rotation=90)\n",
        "\n",
        "# Save the figure to file\n",
        "fig.savefig(\"sports_weights.png\")"
      ],
      "metadata": {
        "id": "aqRurYWGAYFn"
      },
      "execution_count": null,
      "outputs": []
    },
    {
      "cell_type": "code",
      "source": [],
      "metadata": {
        "id": "RzDRgc85AdAz"
      },
      "execution_count": null,
      "outputs": []
    }
  ]
}